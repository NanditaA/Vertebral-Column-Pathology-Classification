{
 "cells": [
  {
   "cell_type": "markdown",
   "metadata": {},
   "source": [
    "## Orthopedic Patient classification with the bivariate Gaussian\n",
    "\n",
    "We will use two features to classify patients into one of 3 categories (normal, disk hernia or spondilolysthesis)\n",
    "by modeling each class by a **bivariate Gaussian**."
   ]
  },
  {
   "cell_type": "markdown",
   "metadata": {},
   "source": [
    "## 1. Load in the data set"
   ]
  },
  {
   "cell_type": "markdown",
   "metadata": {},
   "source": [
    "This data set was obtained with thanks from: Dua, D. and Graff, C. (2019). UCI Machine Learning Repository [http://archive.ics.uci.edu/ml]. Irvine, CA: University of California, School of Information and Computer Science.\n",
    "\n",
    "\n",
    "We start by loading in the Orthopedic Patient data set. \n",
    "\n",
    "Each patient is represented in the data set by six biomechanical attributes derived from the shape and orientation of the pelvis and lumbar spine (in this order): pelvic incidence, pelvic tilt, lumbar lordosis angle, sacral slope, pelvic radius and grade of spondylolisthesis. The following convention is used for the class labels: (60)DH (Disk Hernia), (150) Spondylolisthesis (SL), (100) Normal (NO). \n",
    "\n",
    "There are 310 data points. We will divide this into 226 training points and 83 test points."
   ]
  },
  {
   "cell_type": "code",
   "execution_count": 1,
   "metadata": {},
   "outputs": [],
   "source": [
    "# Standard includes\n",
    "%matplotlib inline\n",
    "import numpy as np\n",
    "import matplotlib.pyplot as plt\n",
    "import pandas as pd\n",
    "\n",
    "\n",
    "# Useful module for dealing with the Gaussian density\n",
    "from scipy.stats import norm, multivariate_normal \n",
    "\n",
    "# Useful module for checking accuracy\n",
    "from sklearn.metrics import accuracy_score\n",
    "from sklearn.metrics import confusion_matrix \n",
    "from sklearn.metrics import classification_report \n",
    "\n",
    "# installing packages for interactive graphs\n",
    "import ipywidgets as widgets\n",
    "from IPython.display import display\n",
    "from ipywidgets import interact, interactive, fixed, interact_manual, IntSlider\n",
    "\n"
   ]
  },
  {
   "cell_type": "code",
   "execution_count": 2,
   "metadata": {},
   "outputs": [],
   "source": [
    "# Load data set.\n",
    "data = pd.read_csv('column_3C.dat', delimiter=' ')\n",
    "\n",
    "# Names of features\n",
    "featurenames = ['pelvic incidence', 'pelvic tilt', 'lumbar lordosis angle', 'sacral slope', 'pelvic radius', 'grade of spondylolisthesis', 'Class'] \n",
    "data.columns = featurenames\n",
    "\n",
    "\n",
    "# Split 310 instances into training set (trainx, trainy) of size 221 and test set (testx, testy) of size 88\n",
    "np.random.seed(0)\n",
    "msk = np.random.rand(len(data)) < 0.75\n",
    "\n",
    "#Train Set\n",
    "train = data[msk]\n",
    "trainx = train[train.columns[0:6]]\n",
    "trainy = train[train.columns[6]]\n",
    "\n",
    "#Test Set\n",
    "test = data[~msk]\n",
    "testx = test[test.columns[0:6]]\n",
    "testy2 = test[test.columns[6]]\n",
    "testy = test[test.columns[6]]\n",
    "\n",
    "       \n",
    "#print(testy.size)\n",
    "#print(testy.head())\n",
    "#print((trainx.iloc[:,5]))\n"
   ]
  },
  {
   "cell_type": "markdown",
   "metadata": {},
   "source": [
    "## 2. Look at the distribution of two biomedical attributes"
   ]
  },
  {
   "cell_type": "markdown",
   "metadata": {},
   "source": [
    "Our goal is to plot the distribution of two features from a particular class of orthopedic patient. We will use several helper functions for this."
   ]
  },
  {
   "cell_type": "markdown",
   "metadata": {},
   "source": [
    "The first helper function fits a Gaussian to a data set, restricting attention to specified features.\n",
    "It returns the mean and covariance matrix of the Gaussian."
   ]
  },
  {
   "cell_type": "code",
   "execution_count": 3,
   "metadata": {},
   "outputs": [],
   "source": [
    "# Fit a Gaussian to a data set using the selected features\n",
    "def fit_gaussian(x, features):\n",
    "    mu = x.iloc[:,features].mean()\n",
    "    covar = x.iloc[:,features].cov()\n",
    "    return mu, covar\n",
    "\n",
    "\n"
   ]
  },
  {
   "cell_type": "code",
   "execution_count": 4,
   "metadata": {},
   "outputs": [],
   "source": [
    "def fit_multivariate_gaussian(x,y,label):\n",
    "    \n",
    "           \n",
    "#    if label == 1: \n",
    " #       NewLabel = \"DH\"\n",
    " #   elif label == 2:\n",
    " #      NewLabel = \"SL\"\n",
    " #    elif label == 3:\n",
    " #       NewLabel = \"NO\"\n",
    "        \n",
    "    temp_x = x[y==label]\n",
    "    mu = temp_x.iloc[:,:].mean()\n",
    "    covar = temp_x.iloc[:,:].cov()\n",
    "\n",
    "    #mu = x.iloc[:,:].mean()\n",
    "    #covar = x.iloc[:,:].cov()\n",
    "    return mu, covar"
   ]
  },
  {
   "cell_type": "markdown",
   "metadata": {},
   "source": [
    "For example, let's look at the Gaussian we get for patients with DH (Disk Hernia), using features 1 ('Pelvic') and 3 ('Sacral Slope')."
   ]
  },
  {
   "cell_type": "code",
   "execution_count": 5,
   "metadata": {},
   "outputs": [
    {
     "name": "stdout",
     "output_type": "stream",
     "text": [
      "Mean:\n",
      "pelvic incidence               50.344857\n",
      "pelvic tilt                    12.603000\n",
      "lumbar lordosis angle          42.951429\n",
      "sacral slope                   37.741286\n",
      "pelvic radius                 124.957429\n",
      "grade of spondylolisthesis      1.098143\n",
      "dtype: float64\n",
      "Covariance matrix:\n",
      "                            pelvic incidence  pelvic tilt  \\\n",
      "pelvic incidence                  128.145559    41.809788   \n",
      "pelvic tilt                        41.809788    38.302497   \n",
      "lumbar lordosis angle              82.279713    16.272051   \n",
      "sacral slope                       86.328923     3.505854   \n",
      "pelvic radius                     -55.618606   -23.034547   \n",
      "grade of spondylolisthesis          9.821771     5.711451   \n",
      "\n",
      "                            lumbar lordosis angle  sacral slope  \\\n",
      "pelvic incidence                        82.279713     86.328923   \n",
      "pelvic tilt                             16.272051      3.505854   \n",
      "lumbar lordosis angle                  115.590012     66.007443   \n",
      "sacral slope                            66.007443     82.817687   \n",
      "pelvic radius                          -22.509922    -32.579031   \n",
      "grade of spondylolisthesis               7.353055      4.111395   \n",
      "\n",
      "                            pelvic radius  grade of spondylolisthesis  \n",
      "pelvic incidence               -55.618606                    9.821771  \n",
      "pelvic tilt                    -23.034547                    5.711451  \n",
      "lumbar lordosis angle          -22.509922                    7.353055  \n",
      "sacral slope                   -32.579031                    4.111395  \n",
      "pelvic radius                   80.415866                   -4.381825  \n",
      "grade of spondylolisthesis      -4.381825                   21.582598  \n"
     ]
    },
    {
     "name": "stderr",
     "output_type": "stream",
     "text": [
      "C:\\ProgramData\\Anaconda3\\lib\\site-packages\\ipykernel_launcher.py:11: UserWarning: Boolean Series key will be reindexed to match DataFrame index.\n",
      "  # This is added back by InteractiveShellApp.init_path()\n"
     ]
    }
   ],
   "source": [
    "label = \"NO\"\n",
    "mu, covar = fit_multivariate_gaussian(trainx[train[\"Class\"]==label],trainy,\"NO\")\n",
    "print(\"Mean:\\n\" + str(mu))\n",
    "print(\"Covariance matrix:\\n\" + str(covar))"
   ]
  },
  {
   "cell_type": "code",
   "execution_count": 6,
   "metadata": {},
   "outputs": [
    {
     "data": {
      "text/plain": [
       "Class\n",
       "DH    [[AxesSubplot(0.125,0.670278;0.336957x0.209722...\n",
       "NO    [[AxesSubplot(0.125,0.670278;0.336957x0.209722...\n",
       "SL    [[AxesSubplot(0.125,0.670278;0.336957x0.209722...\n",
       "dtype: object"
      ]
     },
     "execution_count": 6,
     "metadata": {},
     "output_type": "execute_result"
    },
    {
     "data": {
      "image/png": "[encoded data removed]",
      "text/plain": [
       "<Figure size 720x720 with 6 Axes>"
      ]
     },
     "metadata": {},
     "output_type": "display_data"
    },
    {
     "data": {
      "image/png": "[encoded data removed]",
      "text/plain": [
       "<Figure size 720x720 with 6 Axes>"
      ]
     },
     "metadata": {},
     "output_type": "display_data"
    },
    {
     "data": {
      "image/png": "[encoded data removed]",
      "text/plain": [
       "<Figure size 720x720 with 6 Axes>"
      ]
     },
     "metadata": {},
     "output_type": "display_data"
    }
   ],
   "source": [
    "train.groupby('Class').hist(figsize=(10, 10))"
   ]
  },
  {
   "cell_type": "code",
   "execution_count": 8,
   "metadata": {},
   "outputs": [
    {
     "name": "stdout",
     "output_type": "stream",
     "text": [
      "Mean:\n",
      "pelvic tilt     17.389333\n",
      "sacral slope    30.960889\n",
      "dtype: float64\n",
      "Covariance matrix:\n",
      "              pelvic tilt  sacral slope\n",
      "pelvic tilt     56.061256      3.344192\n",
      "sacral slope     3.344192     53.075931\n"
     ]
    }
   ],
   "source": [
    "f1 = 1  #Pelvic Tilt\n",
    "f2 = 3  #Sacral Slope\n",
    "label = \"DH\" #Patients with Disk Hernia\n",
    "mu, covar = fit_gaussian((trainx[train[\"Class\"]==label]), [f1,f2])\n",
    "\n",
    "print(\"Mean:\\n\" + str(mu))\n",
    "print(\"Covariance matrix:\\n\" + str(covar))\n"
   ]
  },
  {
   "cell_type": "markdown",
   "metadata": {},
   "source": [
    "Next, we will construct a routine for displaying points sampled from a two-dimensional Gaussian, as well as a few contour lines. Part of doing this involves deciding what range to use for each axis. We begin with a little helper function that takes as input an array of numbers (values along a single feature) and returns the range in which these numbers lie."
   ]
  },
  {
   "cell_type": "code",
   "execution_count": 10,
   "metadata": {},
   "outputs": [],
   "source": [
    "# Find the range within which an array of numbers lie, with a little buffer\n",
    "def find_range(x):\n",
    "    lower = min(x)\n",
    "    upper = max(x)\n",
    "    width = upper - lower\n",
    "    lower = lower - 0.2 * width\n",
    "    upper = upper + 0.2 * width\n",
    "    return lower, upper\n",
    "\n"
   ]
  },
  {
   "cell_type": "markdown",
   "metadata": {},
   "source": [
    "Next we define a routine that plots a few contour lines of a given two-dimensional Gaussian.\n",
    "It takes as input:\n",
    "* `mu`, `cov`: the parameters of the Gaussian\n",
    "* `x1g`, `x2g`: the grid (along the two axes) at which the density is to be computed\n",
    "* `col`: the color of the contour lines"
   ]
  },
  {
   "cell_type": "code",
   "execution_count": 11,
   "metadata": {},
   "outputs": [],
   "source": [
    "def plot_contours(mu, cov, x1g, x2g, col):\n",
    "    rv = multivariate_normal(mean=mu, cov=cov)\n",
    "    z = np.zeros((len(x1g),len(x2g)))\n",
    "    for i in range(0,len(x1g)):\n",
    "        for j in range(0,len(x2g)):\n",
    "            z[j,i] = rv.logpdf([x1g[i], x2g[j]]) \n",
    "    sign, logdet = np.linalg.slogdet(cov)\n",
    "    normalizer = -0.5 * (2 * np.log(6.28) + sign * logdet)  \n",
    "    for offset in range(1,4):\n",
    "        plt.contour(x1g,x2g,z, levels=[normalizer - offset], colors=col, linewidths=2.0, linestyles='solid')\n",
    "  "
   ]
  },
  {
   "cell_type": "markdown",
   "metadata": {},
   "source": [
    "The function **two_features_plot** takes an input two features and a label, and displays the distribution for the specified Class (DH, NO, SL) and pair of features.\n",
    "\n",
    "The first line allows you to specify the parameters interactively using sliders."
   ]
  },
  {
   "cell_type": "code",
   "execution_count": 12,
   "metadata": {},
   "outputs": [
    {
     "data": {
      "application/vnd.jupyter.widget-view+json": {
       "model_id": "b6703e64324f4b50a703202b87bf46c5",
       "version_major": 2,
       "version_minor": 0
      },
      "text/plain": [
       "interactive(children=(IntSlider(value=1, description='f1', max=5), IntSlider(value=3, description='f2', max=5)…"
      ]
     },
     "metadata": {},
     "output_type": "display_data"
    }
   ],
   "source": [
    "@interact_manual( f1=IntSlider(1,0,5,1), f2=IntSlider(3,0,5,1), label=IntSlider(1,1,3,1) )\n",
    "\n",
    "def two_features_plot(f1,f2,label):\n",
    "    if f1 == f2: # we need f1 != f2\n",
    "        print(\"Please choose different features for f1 and f2.\")\n",
    "        return  \n",
    "    \n",
    "    if label == 1: \n",
    "        NewLabel = \"DH\"\n",
    "    elif label == 2:\n",
    "        NewLabel = \"SL\"\n",
    "    elif label == 3:\n",
    "        NewLabel = \"NO\"\n",
    "   \n",
    "        \n",
    "\n",
    "    temp_trainx = trainx[train[\"Class\"]==NewLabel]\n",
    " \n",
    "    # Set up plot\n",
    "    x1_lower, x1_upper = find_range(temp_trainx[temp_trainx.columns[f1]])\n",
    "    x2_lower, x2_upper = find_range(temp_trainx[temp_trainx.columns[f2]])\n",
    "    plt.xlim(x1_lower, x1_upper) # limit along x1-axis\n",
    "    plt.ylim(x2_lower, x2_upper) # limit along x2-axis\n",
    "    \n",
    "   \n",
    "    # Plot the training points along the two selected features\n",
    "    plt.plot(temp_trainx[temp_trainx.columns[f1]], temp_trainx[temp_trainx.columns[f2]], 'ro')\n",
    "\n",
    "\n",
    "    # Define a grid along each axis; the density will be computed at each grid point\n",
    "    res = 200 # resolution\n",
    "    x1g = np.linspace(x1_lower, x1_upper, res)\n",
    "    x2g = np.linspace(x2_lower, x2_upper, res)\n",
    "\n",
    "  \n",
    "    # Now plot a few contour lines of the density\n",
    "    mu, cov = fit_gaussian((trainx[train[\"Class\"]==NewLabel]), [f1,f2])\n",
    "    plot_contours(mu, cov, x1g, x2g, 'k')\n",
    "    \n",
    "  \n",
    "    # Finally, display\n",
    "    plt.xlabel(featurenames[f1], fontsize=14, color='red')\n",
    "    plt.ylabel(featurenames[f2], fontsize=14, color='red')\n",
    "    plt.title('Class ' + str(NewLabel), fontsize=14, color='blue')\n",
    "    plt.show()\n",
    "    \n"
   ]
  },
  {
   "cell_type": "markdown",
   "metadata": {},
   "source": [
    "## 3. Fit a Gaussian to each class"
   ]
  },
  {
   "cell_type": "markdown",
   "metadata": {},
   "source": [
    "We now define a function that will fit a Gaussian generative model to the three classes, restricted to a given list of features. The function returns:\n",
    "* `mu`: the means of the Gaussians, one per row\n",
    "* `covar`: covariance matrices of each of the Gaussians\n",
    "* `pi`: list of three class weights summing to 1"
   ]
  },
  {
   "cell_type": "code",
   "execution_count": 13,
   "metadata": {},
   "outputs": [],
   "source": [
    "# Assumes y takes on values 1,2,3\n",
    "def fit_generative_model(x, y, features):\n",
    "    k = 3 # number of classes\n",
    "    d = len(features) # number of features\n",
    "    mu = np.zeros((k+1,d)) # list of means\n",
    "    covar = np.zeros((k+1,d,d)) # list of covariance matrices\n",
    "    pi = np.zeros(k+1) # list of class weights\n",
    "    for label in range(1,k+1):\n",
    "        if label == 1: \n",
    "            NewLabel = \"DH\"\n",
    "        elif label == 2:\n",
    "            NewLabel = \"SL\"\n",
    "        elif label == 3:\n",
    "            NewLabel = \"NO\"\n",
    "        temp_trainx = x[y==NewLabel]\n",
    "        mu[label,:], covar[label,:,:] = fit_gaussian(temp_trainx, features)\n",
    "        pi[label] = float(len(temp_trainx))/float(len(y))\n",
    "    return mu, covar, pi"
   ]
  },
  {
   "cell_type": "markdown",
   "metadata": {},
   "source": [
    "Now we will plot the three Gaussians."
   ]
  },
  {
   "cell_type": "code",
   "execution_count": 14,
   "metadata": {},
   "outputs": [
    {
     "data": {
      "application/vnd.jupyter.widget-view+json": {
       "model_id": "8b70ff207e154e978370e42e7f014094",
       "version_major": 2,
       "version_minor": 0
      },
      "text/plain": [
       "interactive(children=(IntSlider(value=0, description='f1', max=5), IntSlider(value=5, description='f2', max=5)…"
      ]
     },
     "metadata": {},
     "output_type": "display_data"
    }
   ],
   "source": [
    "@interact( f1=IntSlider(0,0,5,1), f2=IntSlider(6,0,5,1) )\n",
    "def three_class_plot(f1,f2):\n",
    "    if f1 == f2: # we need f1 != f2\n",
    "        print(\"Please choose different features for f1 and f2.\")\n",
    "        return  \n",
    "    \n",
    "  \n",
    "    \n",
    "    # Set up plot\n",
    "    x1_lower, x1_upper = find_range(trainx[trainx.columns[f1]])\n",
    "    x2_lower, x2_upper = find_range(trainx[trainx.columns[f2]])\n",
    "    plt.xlim(x1_lower, x1_upper) # limit along x1-axis\n",
    "    plt.ylim(x2_lower, x2_upper) # limit along x2-axis\n",
    "    \n",
    "    # Plot the training points along the two selected features\n",
    "    colors = ['r', 'k', 'g']\n",
    "    for label in range(1,4):\n",
    "        if label == 1: \n",
    "            NewLabel = \"DH\"\n",
    "        elif label == 2:\n",
    "            NewLabel = \"SL\"\n",
    "        elif label == 3:\n",
    "            NewLabel = \"NO\"\n",
    "        temp_trainx = trainx[train[\"Class\"]==NewLabel]\n",
    "        plt.plot(temp_trainx[temp_trainx.columns[f1]], temp_trainx[temp_trainx.columns[f2]], marker='o', ls='None', c=colors[label-1])\n",
    "\n",
    "    # Define a grid along each axis; the density will be computed at each grid point\n",
    "    res = 200 # resolution\n",
    "    x1g = np.linspace(x1_lower, x1_upper, res)\n",
    "    x2g = np.linspace(x2_lower, x2_upper, res)\n",
    "\n",
    "    # Show the Gaussian fit to each class, using features f1,f2\n",
    "    mu, covar, pi = fit_generative_model(trainx, trainy, [f1,f2])\n",
    "    for label in range(1,4):\n",
    "        gmean = mu[label,:]\n",
    "        gcov = covar[label,:,:]\n",
    "        plot_contours(gmean, gcov, x1g, x2g, colors[label-1])\n",
    "\n",
    "    # Finally, display\n",
    "    plt.xlabel(featurenames[f1], fontsize=14, color='red')\n",
    "    plt.ylabel(featurenames[f2], fontsize=14, color='red')\n",
    "    plt.title('Vetebral Column Data', fontsize=14, color='blue')\n",
    "    plt.show()"
   ]
  },
  {
   "cell_type": "markdown",
   "metadata": {},
   "source": [
    "## 4. Predict labels for the test points"
   ]
  },
  {
   "cell_type": "markdown",
   "metadata": {},
   "source": [
    "How well we can predict the class (DH, SL, NO) based just on these two features?\n",
    "\n",
    "We start with a testing procedure that is analogous to what we developed in the 1-d case."
   ]
  },
  {
   "cell_type": "code",
   "execution_count": 15,
   "metadata": {},
   "outputs": [
    {
     "data": {
      "application/vnd.jupyter.widget-view+json": {
       "model_id": "3168ffcc66964c74999b309c9c2f0b6f",
       "version_major": 2,
       "version_minor": 0
      },
      "text/plain": [
       "interactive(children=(IntSlider(value=0, description='f1', max=5), IntSlider(value=1, description='f2', max=5)…"
      ]
     },
     "metadata": {},
     "output_type": "display_data"
    }
   ],
   "source": [
    "# Now test the performance of a predictor based on a subset of features\n",
    "import string\n",
    "@interact( f1=IntSlider(0,0,5,1), f2=IntSlider(1,0,5,1) )\n",
    "def test_model(f1, f2):\n",
    "    if f1 == f2: # need f1 != f2\n",
    "        print(\"Please choose different features for f1 and f2.\")\n",
    "        return  \n",
    "    features= [f1,f2]\n",
    "    mu, covar, pi = fit_generative_model(trainx, trainy, features)\n",
    "    \n",
    "   \n",
    "    \n",
    "    k = 3 # Labels 1,2,...,k\n",
    "    nt = len(testy) # Number of test points\n",
    "    score = np.zeros((nt,k+1))\n",
    "    for i in range(0,nt):\n",
    "        for label in range(1,k+1):\n",
    "            score[i,label] = np.log(pi[label]) + multivariate_normal.logpdf(testx.iloc[i,features], mean=mu[label,:], cov=covar[label,:,:])\n",
    "    predictions = np.argmax(score[:,1:4], axis=1) + 1\n",
    "    # Finally, tally up score\n",
    "    \n",
    "    #Initializing empty array and setting it to allow strings of unlimited length\n",
    "    NewPredictions = np.empty(predictions.shape, dtype=object)\n",
    "    \n",
    "    #Converting numbers to strings\n",
    "    for i in range(len(predictions)):\n",
    "        if predictions[i] == 1: \n",
    "            NewPredictions[i] = \"DH\"\n",
    "        elif predictions[i] == 2:\n",
    "            NewPredictions[i] = \"SL\"\n",
    "        elif predictions[i] == 3:\n",
    "            NewPredictions[i] = \"NO\"\n",
    "        \n",
    "    errors = np.sum(NewPredictions != testy)\n",
    "    print(\"Test error using feature(s): \"),\n",
    "    for f in features:\n",
    "        print(\"'\" + featurenames[f] + \"'\" + \" \"),\n",
    "    print\n",
    "    print(\"Errors: \" + str(errors) + \"/\" + str(nt))# Now test the performance of a predictor based on a subset of features\n",
    "   \n",
    "    print(\"Percentage Error is: \"+ \"%.2f\" % (errors/len(predictions)*100)+ \"%\")"
   ]
  },
  {
   "cell_type": "markdown",
   "metadata": {},
   "source": [
    "### <font color=\"magenta\">Quick Observations</font>"
   ]
  },
  {
   "cell_type": "markdown",
   "metadata": {},
   "source": [
    "Different pairs of features yield different test errors.\n",
    "* The smallest achievable test error of 22% was achieved from f1(3) 'sacral slope' and f2(5) 'grade of spondylolisthesis'\n",
    "\n"
   ]
  },
  {
   "cell_type": "markdown",
   "metadata": {
    "collapsed": true
   },
   "source": [
    "## 5. The decision boundary "
   ]
  },
  {
   "cell_type": "markdown",
   "metadata": {},
   "source": [
    "The function **show_decision_boundary** takes as input two features, builds a classifier based only on these two features, and shows a plot that contains both the training data and the decision boundary.\n",
    "\n",
    "To compute the decision boundary, a dense grid is defined on the two-dimensional input space and the classifier is applied to every grid point. The built-in `pyplot.contour` function can then be invoked to depict the boundary."
   ]
  },
  {
   "cell_type": "code",
   "execution_count": 16,
   "metadata": {},
   "outputs": [
    {
     "data": {
      "application/vnd.jupyter.widget-view+json": {
       "model_id": "0bee6776c86f42df9ffec6f07079f6a6",
       "version_major": 2,
       "version_minor": 0
      },
      "text/plain": [
       "interactive(children=(IntSlider(value=3, description='f1', max=5), IntSlider(value=5, description='f2', max=5)…"
      ]
     },
     "metadata": {},
     "output_type": "display_data"
    }
   ],
   "source": [
    "@interact( f1=IntSlider(3,0,5,1), f2=IntSlider(5,0,5,1) )\n",
    "\n",
    "def show_decision_boundary(f1,f2):\n",
    "    # Fit Gaussian to each class\n",
    "    mu, covar, pi = fit_generative_model(trainx, trainy, [f1,f2])\n",
    "    \n",
    "    # Set up dimensions of plot\n",
    "    x1_lower, x1_upper = find_range(trainx[trainx.columns[f1]])\n",
    "    x2_lower, x2_upper = find_range(trainx[trainx.columns[f2]])\n",
    "    plt.xlim([x1_lower,x1_upper])\n",
    "    plt.ylim([x2_lower,x2_upper])\n",
    "\n",
    "    # Plot points in training set\n",
    "    colors = ['r', 'k', 'g']\n",
    "    for label in range(1,4):\n",
    "        if label == 1: \n",
    "            NewLabel = \"DH\"\n",
    "        elif label == 2:\n",
    "            NewLabel = \"SL\"\n",
    "        elif label == 3:\n",
    "            NewLabel = \"NO\"\n",
    "        temp_trainx = trainx[train[\"Class\"]==NewLabel]\n",
    "        plt.plot(temp_trainx[temp_trainx.columns[f1]],temp_trainx[temp_trainx.columns[f2]], marker='o', ls='None', c=colors[label-1])\n",
    "     \n",
    "                             \n",
    "    # Define a dense grid; every point in the grid will be classified according to the generative model\n",
    "    res = 200\n",
    "    x1g = np.linspace(x1_lower, x1_upper, res)\n",
    "    x2g = np.linspace(x2_lower, x2_upper, res)\n",
    "\n",
    "    # Declare random variables corresponding to each class density\n",
    "    random_vars = {}\n",
    "    for label in range(1,4):\n",
    "        random_vars[label] = multivariate_normal(mean=mu[label,:],cov=covar[label,:,:])\n",
    "\n",
    "    # Classify every point in the grid; these are stored in an array Z[]\n",
    "    Z = np.zeros((len(x1g), len(x2g)))\n",
    "    for i in range(0,len(x1g)):\n",
    "        for j in range(0,len(x2g)):\n",
    "            scores = []\n",
    "            for label in range(1,4):\n",
    "                scores.append(np.log(pi[label]) + random_vars[label].logpdf([x1g[i],x2g[j]]))\n",
    "            Z[i,j] = np.argmax(scores) + 1\n",
    "\n",
    "    # Plot the contour lines\n",
    "    plt.contour(x1g,x2g,Z.T,3,cmap='seismic')\n",
    "    \n",
    "    \n",
    "    # Finally, show the image\n",
    "    plt.xlabel(featurenames[f1], fontsize=14, color='red')\n",
    "    plt.ylabel(featurenames[f2], fontsize=14, color='red')\n",
    "    plt.show()"
   ]
  },
  {
   "cell_type": "markdown",
   "metadata": {},
   "source": [
    "Let's use the function above to draw the decision boundary using features 3 ('Sacral Slope') and 5 ('Grade of Spondyliosisthesis')."
   ]
  },
  {
   "cell_type": "code",
   "execution_count": 15,
   "metadata": {},
   "outputs": [
    {
     "data": {
      "image/png": "[encoded data removed]",
      "text/plain": [
       "<Figure size 432x288 with 1 Axes>"
      ]
     },
     "metadata": {},
     "output_type": "display_data"
    }
   ],
   "source": [
    "show_decision_boundary(3,5)"
   ]
  },
  {
   "cell_type": "markdown",
   "metadata": {},
   "source": [
    "### <font color=\"magenta\">Fast exercise 3</font>"
   ]
  },
  {
   "cell_type": "markdown",
   "metadata": {},
   "source": [
    "Produce a plot similar to that of **show_decision_boundary**, but in which just the **test** data is shown.\n",
    "Look back at your answer to *Fast exercise 1*. Is it corroborated by your plot? Are the errors clearly visible?"
   ]
  },
  {
   "cell_type": "code",
   "execution_count": 17,
   "metadata": {},
   "outputs": [
    {
     "data": {
      "application/vnd.jupyter.widget-view+json": {
       "model_id": "2a57592828e94ae8b2160db909d7a1a1",
       "version_major": 2,
       "version_minor": 0
      },
      "text/plain": [
       "interactive(children=(IntSlider(value=3, description='f1', max=5), IntSlider(value=5, description='f2', max=5)…"
      ]
     },
     "metadata": {},
     "output_type": "display_data"
    }
   ],
   "source": [
    "@interact( f1=IntSlider(3,0,5,1), f2=IntSlider(5,0,5,1) )\n",
    "def show_decision_boundary(f1,f2):\n",
    "    # Fit Gaussian to each class\n",
    "    mu, covar, pi = fit_generative_model(trainx, trainy, [f1,f2])\n",
    "    \n",
    "    # Set up dimensions of plot\n",
    "    x1_lower, x1_upper = find_range(testx[testx.columns[f1]])\n",
    "    x2_lower, x2_upper = find_range(testx[testx.columns[f2]])\n",
    "    plt.xlim([x1_lower,x1_upper])\n",
    "    plt.ylim([x2_lower,150])\n",
    "\n",
    "    # Plot points in training set\n",
    "    colors = ['r', 'k', 'g']\n",
    "    for label in range(1,4):\n",
    "        if label == 1: \n",
    "            NewLabel = \"DH\"\n",
    "        elif label == 2:\n",
    "            NewLabel = \"SL\"\n",
    "        elif label == 3:\n",
    "            NewLabel = \"NO\"\n",
    "        temp_testx = testx[test[\"Class\"]==NewLabel]\n",
    "        plt.plot(temp_testx[temp_testx.columns[f1]],temp_testx[temp_testx.columns[f2]], marker='o', ls='None', c=colors[label-1])\n",
    "     \n",
    "                             \n",
    "    # Define a dense grid; every point in the grid will be classified according to the generative model\n",
    "    res = 200\n",
    "    x1g = np.linspace(x1_lower, x1_upper, res)\n",
    "    x2g = np.linspace(x2_lower, x2_upper, res)\n",
    "\n",
    "    # Declare random variables corresponding to each class density\n",
    "    random_vars = {}\n",
    "    for label in range(1,4):\n",
    "        random_vars[label] = multivariate_normal(mean=mu[label,:],cov=covar[label,:,:])\n",
    "\n",
    "    # Classify every point in the grid; these are stored in an array Z[]\n",
    "    Z = np.zeros((len(x1g), len(x2g)))\n",
    "    for i in range(0,len(x1g)):\n",
    "        for j in range(0,len(x2g)):\n",
    "            scores = []\n",
    "            for label in range(1,4):\n",
    "                scores.append(np.log(pi[label]) + random_vars[label].logpdf([x1g[i],x2g[j]]))\n",
    "            Z[i,j] = np.argmax(scores) + 1\n",
    "\n",
    "    # Plot the contour lines\n",
    "    plt.contour(x1g,x2g,Z.T,3,cmap='seismic')\n",
    "    \n",
    "    \n",
    "    # Finally, show the image\n",
    "    plt.xlabel(featurenames[f1], fontsize=14, color='red')\n",
    "    plt.ylabel(featurenames[f2], fontsize=14, color='red')\n",
    "    plt.show()"
   ]
  },
  {
   "cell_type": "markdown",
   "metadata": {},
   "source": [
    "## 3. MULTIVARIATE GAUSSIAN"
   ]
  },
  {
   "cell_type": "code",
   "execution_count": 18,
   "metadata": {},
   "outputs": [],
   "source": [
    "def fit_multivariate_generative_model(x,y):\n",
    "    k = 3  # labels 1,2,...,k\n",
    "    d = (x.shape)[1]  # number of features\n",
    "    mu = np.zeros((k+1,d))\n",
    "    sigma = np.zeros((k+1,d,d))\n",
    "    pi = np.zeros(k+1)\n",
    "   \n",
    "    for label in range(1,k+1):\n",
    "        if label == 1: \n",
    "            NewLabel = \"DH\"\n",
    "        elif label == 2:\n",
    "            NewLabel = \"SL\"\n",
    "        elif label == 3:\n",
    "            NewLabel = \"NO\"\n",
    "        \n",
    "        temp_trainx = x[y==NewLabel]\n",
    "        mu[label], sigma[label] = fit_multivariate_gaussian(x,y,NewLabel)\n",
    "        pi[label] = float(len(temp_trainx))/float(len(y))\n",
    "             \n",
    "    return mu, sigma,pi"
   ]
  },
  {
   "cell_type": "code",
   "execution_count": 19,
   "metadata": {},
   "outputs": [],
   "source": [
    "# Fit a Gaussian generative model to the training data\n",
    "\n",
    "mu, sigma, pi = fit_multivariate_generative_model(trainx,trainy)\n"
   ]
  },
  {
   "cell_type": "code",
   "execution_count": 20,
   "metadata": {},
   "outputs": [],
   "source": [
    "# Now test the performance of a predictor based on a subset of features\n",
    "def test_multivariate_model(mu, sigma, pi, features, tx, ty):\n",
    "    ###\n",
    "    sub_mu = mu[:,features]\n",
    "    sub_cov = sigma[:,:,features]\n",
    "    k = 3 # Labels 1,2,...,k\n",
    "    nt = len(ty) # Number of test points\n",
    "    score = np.zeros((nt,k+1))\n",
    "    second_score = np.zeros((nt,k+1))\n",
    "    toreject = np.zeros(nt)\n",
    "    for i in range(0,nt):\n",
    "         for label in range(1,k+1):\n",
    "            score[i,label] = (pi[label]) + multivariate_normal.logpdf(tx.iloc[i,features], mean=sub_mu[label,:], cov=sub_cov[label,features,:])\n",
    "            if score[i,label] < -100:\n",
    "                toreject[i] = 1\n",
    "            else:\n",
    "                toreject[i] = 0\n",
    "            \n",
    "\n",
    "    import scipy\n",
    "    #print(scipy.stats.describe(score))\n",
    "    \n",
    "    #Predictions without rejected samples\n",
    "    predictions = np.argmax(score[:,1:6], axis=1) + 1\n",
    "    \n",
    "     \n",
    "    # Finally, tally up score\n",
    "    #Initializing empty array and setting it to allow strings of unlimited length   \n",
    "    NewPredictions = np.empty(predictions.shape, dtype=object)\n",
    "    \n",
    "    #Converting numbers to strings\n",
    "    for i in range(len(predictions)):\n",
    "        if predictions[i] == 1: \n",
    "            NewPredictions[i] = \"DH\"\n",
    "        elif predictions[i] == 2:\n",
    "            NewPredictions[i] = \"SL\"\n",
    "        elif predictions[i] == 3:\n",
    "            NewPredictions[i] = \"NO\"\n",
    "        \n",
    "    #Use for 2-class predictions    \n",
    "    #import string\n",
    "    #newtesty=testy.replace((\"DH\",\"SL\"), \"AB\")       \n",
    "    #errors = np.sum(NewPredictions != newtesty)\n",
    "    \n",
    "    errors = np.sum(NewPredictions != ty)\n",
    "     \n",
    "    #_______________________Including REJECTION SAMPLING_______________________________________________________\n",
    "    #Finding the range of the scores with a view to reject samples with low probabilities: \n",
    "    #https://academic.oup.com/bioinformatics/article/24/17/1889/263502\n",
    "    #Creating an array without low probability samples           \n",
    "    second_score = score[toreject == 0]\n",
    "    #print(second_score.size)\n",
    "    #Predictions wit rejected samples\n",
    "    second_predictions = np.argmax(second_score[:,1:6], axis=1) + 1\n",
    "    \n",
    "    second_NewPredictions = np.empty(second_predictions.shape, dtype=object)\n",
    "    \n",
    "    #Converting numbers to strings\n",
    "    for i in range(len(second_predictions)):\n",
    "        if second_predictions[i] == 1: \n",
    "            second_NewPredictions[i] = \"AB\"\n",
    "        elif second_predictions[i] == 2:\n",
    "            second_NewPredictions[i] = \"AB\"\n",
    "        elif second_predictions[i] == 3:\n",
    "            second_NewPredictions[i] = \"NO\"\n",
    "            \n",
    "    #second_testy = newtesty[toreject == 0]     \n",
    "    second_testy = ty[toreject == 0]  \n",
    "    second_errors = np.sum(second_NewPredictions != second_testy)        \n",
    "            \n",
    "    #_________________________________________________________________________________________________________         \n",
    "         \n",
    "    print(\"Test error using feature(s): \"),\n",
    "    for f in features:\n",
    "        print(\"'\" + featurenames[f] + \"'\" + \" \"),\n",
    "    \n",
    "    print(\"Errors: \" + str(errors) + \"/\" + str(nt))# Now test the performance of a predictor based on a subset of features\n",
    "    print(\"Percentage Error is: \"+ \"%.2f\" % (errors/len(predictions)*100)+ \"%\")\n",
    "    \n",
    "    print(\"----------------------------------------------------------------------------------\")\n",
    "    print(\"Errors after rejection sampling: \" + str(second_errors) + \"/\" + str(len(second_predictions)))# Now test the performance of a predictor based on a subset of features\n",
    "    print(\"Percentage Error after rejection sampling is: \"+ \"%.2f\" % (second_errors/len(second_predictions)*100)+ \"%\")\n",
    "    #\n",
    "    \n",
    "    #Accuracy & Confusion\n",
    "    accuracy_score(y_true = ty, y_pred = NewPredictions)\n",
    "    confusion_matrix(y_true = ty, y_pred = NewPredictions)\n",
    "    print(classification_report(y_true = ty, y_pred = NewPredictions))"
   ]
  },
  {
   "cell_type": "code",
   "execution_count": 32,
   "metadata": {},
   "outputs": [
    {
     "name": "stdout",
     "output_type": "stream",
     "text": [
      "260\n",
      "Test error using feature(s): \n",
      "'pelvic tilt' \n",
      "'pelvic radius' \n",
      "'sacral slope' \n",
      "'grade of spondylolisthesis' \n",
      "Errors: 13/72\n",
      "Percentage Error is: 18.06%\n",
      "----------------------------------------------------------------------------------\n",
      "Errors after rejection sampling: 45/65\n",
      "Percentage Error after rejection sampling is: 69.23%\n",
      "             precision    recall  f1-score   support\n",
      "\n",
      "         DH       0.65      0.79      0.71        14\n",
      "         NO       0.91      0.67      0.77        30\n",
      "         SL       0.85      1.00      0.92        28\n",
      "\n",
      "avg / total       0.83      0.82      0.82        72\n",
      "\n"
     ]
    }
   ],
   "source": [
    "test_multivariate_model(mu, sigma, pi, [1,4,3,5], testx, testy)"
   ]
  }
 ],
 "metadata": {
  "kernelspec": {
   "display_name": "Python 3",
   "language": "python",
   "name": "python3"
  },
  "language_info": {
   "codemirror_mode": {
    "name": "ipython",
    "version": 3
   },
   "file_extension": ".py",
   "mimetype": "text/x-python",
   "name": "python",
   "nbconvert_exporter": "python",
   "pygments_lexer": "ipython3",
   "version": "3.6.5"
  },
  "toc": {
   "colors": {
    "hover_highlight": "#DAA520",
    "navigate_num": "#000000",
    "navigate_text": "#333333",
    "running_highlight": "#FF0000",
    "selected_highlight": "#FFD700",
    "sidebar_border": "#EEEEEE",
    "wrapper_background": "#FFFFFF"
   },
   "moveMenuLeft": true,
   "nav_menu": {
    "height": "12px",
    "width": "252px"
   },
   "navigate_menu": true,
   "number_sections": false,
   "sideBar": true,
   "threshold": 4,
   "toc_cell": false,
   "toc_section_display": "block",
   "toc_window_display": false,
   "widenNotebook": false
  }
 },
 "nbformat": 4,
 "nbformat_minor": 1
}
